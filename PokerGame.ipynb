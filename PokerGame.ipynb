{
  "nbformat": 4,
  "nbformat_minor": 0,
  "metadata": {
    "colab": {
      "provenance": []
    },
    "kernelspec": {
      "name": "python3",
      "display_name": "Python 3"
    },
    "language_info": {
      "name": "python"
    }
  },
  "cells": [
    {
      "cell_type": "code",
      "execution_count": null,
      "metadata": {
        "id": "GhHL4LkXLKWI"
      },
      "outputs": [],
      "source": [
        "import random\n",
        "from itertools import combinations"
      ]
    },
    {
      "cell_type": "markdown",
      "source": [
        "# Define card ranks and suits"
      ],
      "metadata": {
        "id": "u9xigOmZLOkr"
      }
    },
    {
      "cell_type": "code",
      "source": [
        "RANKS = ['2', '3', '4', '5', '6', '7', '8', '9', 'T', 'J', 'Q', 'K', 'A']\n",
        "SUITS = ['H', 'D', 'C', 'S']"
      ],
      "metadata": {
        "id": "8JZ15Ws_LTZi"
      },
      "execution_count": null,
      "outputs": []
    },
    {
      "cell_type": "markdown",
      "source": [
        "# Generate a deck of cards"
      ],
      "metadata": {
        "id": "yghFU_ZnLXuk"
      }
    },
    {
      "cell_type": "code",
      "source": [
        "def generate_deck():\n",
        "    return [rank + suit for rank in RANKS for suit in SUITS]"
      ],
      "metadata": {
        "id": "MVoWntYuLaGS"
      },
      "execution_count": null,
      "outputs": []
    },
    {
      "cell_type": "markdown",
      "source": [
        "# Function to evaluate poker hands with a full evaluation"
      ],
      "metadata": {
        "id": "N4TFhOpwenBU"
      }
    },
    {
      "cell_type": "code",
      "source": [
        "def evaluate_hand(hand, community_cards):\n",
        "    all_cards = hand + community_cards\n",
        "    all_ranks = [card[0] for card in all_cards]\n",
        "    all_suits = [card[1] for card in all_cards]\n",
        "    rank_counts = {rank: all_ranks.count(rank) for rank in all_ranks}\n",
        "    sorted_ranks = sorted([RANKS.index(rank) for rank in all_ranks], reverse=True)\n",
        "\n",
        "    is_flush = len(set(all_suits)) == 1\n",
        "    is_straight = all(sorted_ranks[i] - 1 == sorted_ranks[i + 1] for i in range(len(sorted_ranks) - 1))\n",
        "\n",
        "    if is_flush and is_straight:\n",
        "        return 8  # Straight Flush\n",
        "    elif 4 in rank_counts.values():\n",
        "        return 7  # Four of a Kind\n",
        "    elif sorted(rank_counts.values()) == [2, 3]:\n",
        "        return 6  # Full House\n",
        "    elif is_flush:\n",
        "        return 5  # Flush\n",
        "    elif is_straight:\n",
        "        return 4  # Straight\n",
        "    elif 3 in rank_counts.values():\n",
        "        return 3  # Three of a Kind\n",
        "    elif list(rank_counts.values()).count(2) == 2:\n",
        "        return 2  # Two Pair\n",
        "    elif 2 in rank_counts.values():\n",
        "        return 1  # One Pair\n",
        "    else:\n",
        "        return 0  # High Card"
      ],
      "metadata": {
        "id": "l00WJHOKin-D"
      },
      "execution_count": null,
      "outputs": []
    },
    {
      "cell_type": "markdown",
      "source": [
        "# Expectiminimax algorithm for AI decision-making"
      ],
      "metadata": {
        "id": "CtRQRkVYHwJU"
      }
    },
    {
      "cell_type": "code",
      "source": [
        "def expectiminimax(state, depth, is_maximizing):\n",
        "    if depth == 0 or state.is_terminal():\n",
        "        return state.evaluate()\n",
        "\n",
        "    if is_maximizing:\n",
        "        best_value = float('-inf')\n",
        "        for action in state.get_possible_actions():\n",
        "            new_state = state.apply_action(action)\n",
        "            value = expectiminimax(new_state, depth - 1, False)\n",
        "            best_value = max(best_value, value)\n",
        "        return best_value\n",
        "    else:\n",
        "        best_value = float('inf')\n",
        "        for action in state.get_possible_actions():\n",
        "            new_state = state.apply_action(action)\n",
        "            value = expectiminimax(new_state, depth - 1, True)\n",
        "            best_value = min(best_value, value)\n",
        "        return best_value"
      ],
      "metadata": {
        "id": "Gs41PrW2HxWk"
      },
      "execution_count": null,
      "outputs": []
    },
    {
      "cell_type": "markdown",
      "source": [
        "# Class for poker game state"
      ],
      "metadata": {
        "id": "MB4UASbX0aj7"
      }
    },
    {
      "cell_type": "code",
      "source": [
        "class PokerGameState:\n",
        "    def __init__(self, players, community_cards, pot, current_bet, current_player, active_players):\n",
        "        self.players = players  # Dictionary of players and their hands\n",
        "        self.community_cards = community_cards\n",
        "        self.pot = pot\n",
        "        self.current_bet = current_bet\n",
        "        self.current_player = current_player\n",
        "        self.active_players = active_players  # Players still in the game\n",
        "\n",
        "    def get_possible_actions(self):\n",
        "        return ['fold', 'call', 'raise']\n",
        "\n",
        "    def apply_action(self, action):\n",
        "        if action == 'fold':\n",
        "            self.active_players.remove(list(self.players.keys())[self.current_player])\n",
        "        elif action == 'raise':\n",
        "            self.pot += 20  # Simulating a raise\n",
        "\n",
        "        new_state = PokerGameState(self.players, self.community_cards, self.pot, self.current_bet, (self.current_player + 1) % len(self.players), self.active_players)\n",
        "        return new_state\n",
        "\n",
        "    def is_terminal(self):\n",
        "        return len(self.active_players) == 1\n",
        "\n",
        "    def evaluate(self):\n",
        "        best_hand = max((evaluate_hand(hand, self.community_cards) for hand in self.players.values()), default=0)\n",
        "        return best_hand"
      ],
      "metadata": {
        "id": "PLPAkUK00bnH"
      },
      "execution_count": null,
      "outputs": []
    },
    {
      "cell_type": "markdown",
      "source": [
        "# Running a multi-player simulation"
      ],
      "metadata": {
        "id": "73Y6Mq1EivZN"
      }
    },
    {
      "cell_type": "code",
      "source": [
        "def simulate_game():\n",
        "    deck = generate_deck()\n",
        "    random.shuffle(deck)\n",
        "\n",
        "    num_players = 3\n",
        "    players = {f'Player {i+1}': [deck.pop(), deck.pop()] for i in range(num_players)}\n",
        "    active_players = list(players.keys())\n",
        "\n",
        "    community_cards = [deck.pop() for _ in range(5)]\n",
        "\n",
        "    state = PokerGameState(players=players, community_cards=community_cards, pot=100, current_bet=10, current_player=0, active_players=active_players)\n",
        "\n",
        "    while not state.is_terminal():\n",
        "        best_action = expectiminimax(state, depth=3, is_maximizing=True)\n",
        "        print(f\"{list(players.keys())[state.current_player]} chooses action: {best_action}\")\n",
        "        state = state.apply_action(best_action)\n",
        "\n",
        "    for player, hand in players.items():\n",
        "        print(f\"{player} Hand: {hand}\")\n",
        "    print(f\"Community Cards: {community_cards}\")\n",
        "    print(f\"Winner: {state.active_players[0]} with best hand evaluation: {evaluate_hand(players[state.active_players[0]], community_cards)}\")\n",
        "\n",
        "simulate_game()"
      ],
      "metadata": {
        "id": "5hg1dpuw65j9"
      },
      "execution_count": null,
      "outputs": []
    }
  ]
}