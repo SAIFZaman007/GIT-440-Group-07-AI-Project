{
  "nbformat": 4,
  "nbformat_minor": 0,
  "metadata": {
    "colab": {
      "provenance": []
    },
    "kernelspec": {
      "name": "python3",
      "display_name": "Python 3"
    },
    "language_info": {
      "name": "python"
    }
  },
  "cells": [
    {
      "cell_type": "code",
      "execution_count": 1,
      "metadata": {
        "id": "GhHL4LkXLKWI"
      },
      "outputs": [],
      "source": [
        "import random\n",
        "from collections import Counter"
      ]
    },
    {
      "cell_type": "markdown",
      "source": [
        "# Card Ranks and Suits"
      ],
      "metadata": {
        "id": "u9xigOmZLOkr"
      }
    },
    {
      "cell_type": "code",
      "source": [
        "SUITS = ['Hearts', 'Diamonds', 'Clubs', 'Spades']\n",
        "RANKS = ['2', '3', '4', '5', '6', '7', '8', '9', '10', 'J', 'Q', 'K', 'A']\n",
        "HAND_RANKS = ['High Card', 'One Pair', 'Two Pair', 'Three of a Kind', 'Straight', 'Flush', 'Full House', 'Four of a Kind', 'Straight Flush', 'Royal Flush']"
      ],
      "metadata": {
        "id": "8JZ15Ws_LTZi"
      },
      "execution_count": 2,
      "outputs": []
    },
    {
      "cell_type": "markdown",
      "source": [
        "# Creating the Deck"
      ],
      "metadata": {
        "id": "yghFU_ZnLXuk"
      }
    },
    {
      "cell_type": "code",
      "source": [
        "def create_deck():\n",
        "    return [(rank, suit) for suit in SUITS for rank in RANKS]"
      ],
      "metadata": {
        "id": "MVoWntYuLaGS"
      },
      "execution_count": 3,
      "outputs": []
    },
    {
      "cell_type": "markdown",
      "source": [
        "# Shuffling the Deck"
      ],
      "metadata": {
        "id": "wGcprotgfkSc"
      }
    },
    {
      "cell_type": "code",
      "source": [
        "def shuffle_deck(deck):\n",
        "    random.shuffle(deck)"
      ],
      "metadata": {
        "id": "_yuRHMm8fnOR"
      },
      "execution_count": 4,
      "outputs": []
    },
    {
      "cell_type": "markdown",
      "source": [
        "# Dealing cards to *players*"
      ],
      "metadata": {
        "id": "18DNz40HgN5_"
      }
    },
    {
      "cell_type": "code",
      "source": [
        "def deal_cards(deck, num_players=6):\n",
        "    hands = {f'Player {i+1}': [] for i in range(num_players)}\n",
        "    for i in range(num_players):\n",
        "        hands[f'Player {i+1}'].append(deck.pop())\n",
        "        hands[f'Player {i+1}'].append(deck.pop())\n",
        "    return hands, deck"
      ],
      "metadata": {
        "id": "m2sybTv8gR3F"
      },
      "execution_count": 5,
      "outputs": []
    },
    {
      "cell_type": "markdown",
      "source": [
        "# Dealing community cards"
      ],
      "metadata": {
        "id": "N4TFhOpwenBU"
      }
    },
    {
      "cell_type": "code",
      "source": [
        "def deal_community_cards(deck):\n",
        "    return [deck.pop() for _ in range(5)]"
      ],
      "metadata": {
        "id": "l00WJHOKin-D"
      },
      "execution_count": 6,
      "outputs": []
    },
    {
      "cell_type": "markdown",
      "source": [
        "# Helper function to determine if hand is a Flush"
      ],
      "metadata": {
        "id": "mAOorh9VRSTF"
      }
    },
    {
      "cell_type": "code",
      "source": [
        "def is_flush(cards):\n",
        "    suits = [card[1] for card in cards]\n",
        "    return len(set(suits)) == 1"
      ],
      "metadata": {
        "id": "DQNbrEoaRXqY"
      },
      "execution_count": 7,
      "outputs": []
    },
    {
      "cell_type": "markdown",
      "source": [
        "# Helper function to determine if hand is a Straight"
      ],
      "metadata": {
        "id": "kFvWLFT_RhR8"
      }
    },
    {
      "cell_type": "code",
      "source": [
        "def is_straight(cards):\n",
        "    values = sorted([RANKS.index(card[0]) for card in cards])\n",
        "    if values == list(range(min(values), max(values) + 1)):\n",
        "        return True\n",
        "    if set(values) == {0, 1, 2, 3, 12}:\n",
        "        return True\n",
        "    return False"
      ],
      "metadata": {
        "id": "e3iL9f0gRqHe"
      },
      "execution_count": 8,
      "outputs": []
    },
    {
      "cell_type": "markdown",
      "source": [
        "# Function to evaluate the best hand\n"
      ],
      "metadata": {
        "id": "pMmbzqHDRvL7"
      }
    },
    {
      "cell_type": "code",
      "source": [
        "def evaluate_hand(cards):\n",
        "    values = [card[0] for card in cards]\n",
        "    counts = Counter(values)\n",
        "    flush = is_flush(cards)\n",
        "    straight = is_straight(cards)\n",
        "    if straight and flush:\n",
        "        if 'A' in values and 'K' in values:\n",
        "            return \"Royal Flush\"\n",
        "        return \"Straight Flush\"\n",
        "    if 4 in counts.values():\n",
        "        return \"Four of a Kind\"\n",
        "    if 3 in counts.values() and 2 in counts.values():\n",
        "        return \"Full House\"\n",
        "    if flush:\n",
        "        return \"Flush\"\n",
        "    if straight:\n",
        "        return \"Straight\"\n",
        "    if 3 in counts.values():\n",
        "        return \"Three of a Kind\"\n",
        "    if list(counts.values()).count(2) == 2:\n",
        "        return \"Two Pair\"\n",
        "    if 2 in counts.values():\n",
        "        return \"One Pair\"\n",
        "    return \"High Card\""
      ],
      "metadata": {
        "id": "Y9djE-AVRujw"
      },
      "execution_count": 9,
      "outputs": []
    },
    {
      "cell_type": "markdown",
      "source": [
        "# Pot odds calculation"
      ],
      "metadata": {
        "id": "R-UuNDAPhDEP"
      }
    },
    {
      "cell_type": "code",
      "source": [
        "def pot_odds(call, pot):\n",
        "    return call / pot if pot > 0 else 0"
      ],
      "metadata": {
        "id": "hnhgKLZqhDcr"
      },
      "execution_count": 10,
      "outputs": []
    },
    {
      "cell_type": "markdown",
      "source": [
        "# AI decision-making function using Expectiminimax\n"
      ],
      "metadata": {
        "id": "H2FYSbxtg_nD"
      }
    },
    {
      "cell_type": "code",
      "source": [
        "def expectiminimax_decision(hand, community_cards, deck, current_bet, pot, depth=2):\n",
        "    def simulate_opponent_response(ai_strength, odds):\n",
        "        if ai_strength > 6:\n",
        "            return ['call', 'raise']\n",
        "        elif ai_strength > 3:\n",
        "            return ['call', 'fold']\n",
        "        else:\n",
        "            return ['fold', 'bluff'] if odds > 0.3 else ['call']\n",
        "\n",
        "    def evaluate_terminal(hand, community_cards):\n",
        "        full_hand = hand + community_cards\n",
        "        strength = evaluate_hand(full_hand)\n",
        "        values = {\n",
        "            \"High Card\": 1, \"One Pair\": 2, \"Two Pair\": 3, \"Three of a Kind\": 4,\n",
        "            \"Straight\": 5, \"Flush\": 6, \"Full House\": 7, \"Four of a Kind\": 8,\n",
        "            \"Straight Flush\": 9, \"Royal Flush\": 10\n",
        "        }\n",
        "        return values[strength]\n",
        "\n",
        "    def expectiminimax(hand, community, deck, depth, is_ai_turn):\n",
        "        if depth == 0 or len(community) == 5:\n",
        "            return evaluate_terminal(hand, community)\n",
        "\n",
        "        if is_ai_turn:\n",
        "            fold_val = 0\n",
        "            call_val = expectiminimax(hand, community, deck[:], depth-1, False)\n",
        "            raise_val = call_val + 1\n",
        "            return max(fold_val, call_val, raise_val)\n",
        "        else:\n",
        "            odds = pot_odds(current_bet, pot)\n",
        "            ai_strength = evaluate_terminal(hand, community)\n",
        "            moves = simulate_opponent_response(ai_strength, odds)\n",
        "            values = []\n",
        "            for move in moves:\n",
        "                if move == 'fold':\n",
        "                    values.append(1)\n",
        "                elif move == 'call':\n",
        "                    values.append(expectiminimax(hand, community, deck[:], depth-1, True))\n",
        "                elif move == 'raise':\n",
        "                    values.append(expectiminimax(hand, community, deck[:], depth-1, True) - 1)\n",
        "                elif move == 'bluff':\n",
        "                    values.append(random.choice([0, 1]))\n",
        "            return sum(values) / len(values)\n",
        "\n",
        "    simulations = 5\n",
        "    scores = []\n",
        "    for _ in range(simulations):\n",
        "        sim_community = community_cards[:]\n",
        "        sim_deck = deck[:]\n",
        "        while len(sim_community) < 5 and sim_deck:\n",
        "            sim_community.append(sim_deck.pop(random.randint(0, len(sim_deck) - 1)))\n",
        "        score = expectiminimax(hand, sim_community, sim_deck, depth, True)\n",
        "        scores.append(score)\n",
        "\n",
        "    avg_score = sum(scores) / len(scores)\n",
        "    if avg_score > 7:\n",
        "        return 'raise'\n",
        "    elif avg_score > 4:\n",
        "        return 'call'\n",
        "    elif avg_score > 2:\n",
        "        return 'bluff'\n",
        "    else:\n",
        "        return 'fold'"
      ],
      "metadata": {
        "id": "PlNphBNThLOf"
      },
      "execution_count": 11,
      "outputs": []
    },
    {
      "cell_type": "markdown",
      "source": [
        "# Betting mechanics"
      ],
      "metadata": {
        "id": "wbNKmukUhVcs"
      }
    },
    {
      "cell_type": "code",
      "source": [
        "def betting_round(hands, pot, deck, community_cards, round_name=\"Betting\", min_bet=10):\n",
        "    print(f\"\\n--- {round_name.upper()} ROUND ---\")\n",
        "    active_players = {player: {'hand': hand, 'status': 'active', 'bet': 0} for player, hand in hands.items()}\n",
        "    player_order = list(active_players.keys())\n",
        "    current_bet = 0\n",
        "    index = 0\n",
        "    players_in_round = len(player_order)\n",
        "\n",
        "    while True:\n",
        "        player = player_order[index]\n",
        "        player_data = active_players[player]\n",
        "\n",
        "        if player_data['status'] != 'active':\n",
        "            index = (index + 1) % players_in_round\n",
        "            continue\n",
        "\n",
        "        print(f\"\\n{player}'s turn. Current bet to call: {current_bet}\")\n",
        "        print(f\"{player}'s hand: {player_data['hand']}\")\n",
        "        print(f\"Pot: {pot}, Your bet so far: {player_data['bet']}\")\n",
        "\n",
        "        if player == 'Player 1':\n",
        "            valid_actions = [\"fold\"]\n",
        "            if player_data['bet'] == current_bet:\n",
        "                valid_actions += [\"check\", \"bet\"]\n",
        "            else:\n",
        "                valid_actions += [\"call\", \"raise\"]\n",
        "            action = input(f\"Choose action ({', '.join(valid_actions)}): \").lower()\n",
        "\n",
        "            if action == \"fold\":\n",
        "                active_players[player]['status'] = 'folded'\n",
        "            elif action == \"check\":\n",
        "                pass\n",
        "            elif action == \"call\":\n",
        "                call_amount = current_bet - player_data['bet']\n",
        "                active_players[player]['bet'] += call_amount\n",
        "                pot += call_amount\n",
        "            elif action == \"bet\":\n",
        "                bet_amount = int(input(\"Enter bet amount: \"))\n",
        "                current_bet = bet_amount\n",
        "                active_players[player]['bet'] = bet_amount\n",
        "                pot += bet_amount\n",
        "            elif action == \"raise\":\n",
        "                raise_amount = int(input(\"Enter raise amount: \"))\n",
        "                total_bet = current_bet + raise_amount\n",
        "                raise_diff = total_bet - player_data['bet']\n",
        "                active_players[player]['bet'] = total_bet\n",
        "                pot += raise_diff\n",
        "                current_bet = total_bet\n",
        "        else:\n",
        "            decision = expectiminimax_decision(player_data['hand'], community_cards, deck[:], current_bet, pot)\n",
        "            if decision == 'fold':\n",
        "                print(f\"{player} folds.\")\n",
        "                active_players[player]['status'] = 'folded'\n",
        "            elif decision == 'call':\n",
        "                call_amount = current_bet - player_data['bet']\n",
        "                active_players[player]['bet'] += call_amount\n",
        "                pot += call_amount\n",
        "                print(f\"{player} calls {call_amount}.\")\n",
        "            elif decision == 'raise':\n",
        "                raise_amount = 10\n",
        "                total_bet = current_bet + raise_amount\n",
        "                raise_diff = total_bet - player_data['bet']\n",
        "                active_players[player]['bet'] = total_bet\n",
        "                pot += raise_diff\n",
        "                current_bet = total_bet\n",
        "                print(f\"{player} raises to {total_bet}.\")\n",
        "            elif decision == 'bluff':\n",
        "                bluff_amount = current_bet + 15\n",
        "                raise_diff = bluff_amount - player_data['bet']\n",
        "                active_players[player]['bet'] = bluff_amount\n",
        "                pot += raise_diff\n",
        "                current_bet = bluff_amount\n",
        "                print(f\"{player} bluffs with a raise to {bluff_amount}.\")\n",
        "\n",
        "        all_equal = all(\n",
        "            p['status'] != 'active' or p['bet'] == current_bet\n",
        "            for p in active_players.values()\n",
        "        )\n",
        "        active_count = sum(1 for p in active_players.values() if p['status'] == 'active')\n",
        "        if all_equal and active_count > 1:\n",
        "            break\n",
        "        if active_count <= 1:\n",
        "            break\n",
        "\n",
        "        index = (index + 1) % players_in_round\n",
        "\n",
        "    hands = {\n",
        "        player: data['hand']\n",
        "        for player, data in active_players.items()\n",
        "        if data['status'] == 'active'\n",
        "    }\n",
        "\n",
        "    return hands, pot"
      ],
      "metadata": {
        "id": "ldASEDffhYHd"
      },
      "execution_count": 12,
      "outputs": []
    },
    {
      "cell_type": "markdown",
      "source": [
        "# Show community cards and display actions"
      ],
      "metadata": {
        "id": "dQUCJeDuhbkw"
      }
    },
    {
      "cell_type": "code",
      "source": [
        "def show_community_cards(community_cards, round_stage):\n",
        "    print(f\"\\n{round_stage} Community Cards: {community_cards}\")"
      ],
      "metadata": {
        "id": "4QF6pA-shebN"
      },
      "execution_count": 13,
      "outputs": []
    },
    {
      "cell_type": "markdown",
      "source": [
        "# Game setup and flow"
      ],
      "metadata": {
        "id": "Op6aU1gUh5uR"
      }
    },
    {
      "cell_type": "code",
      "source": [
        "def play_game():\n",
        "    deck = create_deck()\n",
        "    shuffle_deck(deck)\n",
        "    hands, deck = deal_cards(deck, num_players=6)\n",
        "    community_cards = []\n",
        "    pot = 0\n",
        "\n",
        "    hands, pot = betting_round(hands, pot, deck, community_cards, round_name=\"Preflop\")\n",
        "    community_cards += [deck.pop() for _ in range(3)]\n",
        "    show_community_cards(community_cards, \"Flop\")\n",
        "    hands, pot = betting_round(hands, pot, deck, community_cards, round_name=\"Flop\")\n",
        "\n",
        "    community_cards.append(deck.pop())\n",
        "    show_community_cards(community_cards, \"Turn\")\n",
        "    hands, pot = betting_round(hands, pot, deck, community_cards, round_name=\"Turn\")\n",
        "\n",
        "    community_cards.append(deck.pop())\n",
        "    show_community_cards(community_cards, \"River\")\n",
        "    hands, pot = betting_round(hands, pot, deck, community_cards, round_name=\"River\")\n",
        "\n",
        "    print(\"\\n--- Showdown ---\")\n",
        "    hand_values = {\n",
        "        \"Royal Flush\": 10, \"Straight Flush\": 9, \"Four of a Kind\": 8, \"Full House\": 7,\n",
        "        \"Flush\": 6, \"Straight\": 5, \"Three of a Kind\": 4, \"Two Pair\": 3, \"One Pair\": 2, \"High Card\": 1\n",
        "    }\n",
        "    print(\"Community Cards:\", community_cards)\n",
        "    print(\"\\nPlayer Hands and Evaluations:\")\n",
        "    highest_strength = -1\n",
        "    winner = \"\"\n",
        "    best_hand = \"\"\n",
        "\n",
        "    for player, hand in hands.items():\n",
        "        full_hand = hand + community_cards\n",
        "        hand_strength = evaluate_hand(full_hand)\n",
        "        strength = hand_values[hand_strength]\n",
        "        print(f\"{player}: {hand} -> {hand_strength}\")\n",
        "        if strength > highest_strength:\n",
        "            highest_strength = strength\n",
        "            best_hand = hand_strength\n",
        "            winner = player\n",
        "\n",
        "    print(f\"\\nThe winner is {winner} with a {best_hand}!\")\n",
        "    play_again = input(\"\\nDo you want to play again? (yes/no): \").lower()\n",
        "    if play_again == \"yes\":\n",
        "        play_game()\n",
        "    else:\n",
        "        print(\"Thank you for playing!\")\n",
        "        exit()"
      ],
      "metadata": {
        "id": "pSAAD5PtiCBE"
      },
      "execution_count": 14,
      "outputs": []
    },
    {
      "cell_type": "markdown",
      "source": [
        "# Play the game with 6 players (5 AI players and 1 user)"
      ],
      "metadata": {
        "id": "iBG1hldNiDRP"
      }
    },
    {
      "cell_type": "code",
      "source": [
        "play_game()"
      ],
      "metadata": {
        "collapsed": true,
        "id": "hQeogmtviGTn"
      },
      "execution_count": null,
      "outputs": []
    }
  ]
}