{
  "nbformat": 4,
  "nbformat_minor": 0,
  "metadata": {
    "colab": {
      "provenance": []
    },
    "kernelspec": {
      "name": "python3",
      "display_name": "Python 3"
    },
    "language_info": {
      "name": "python"
    }
  },
  "cells": [
    {
      "cell_type": "code",
      "execution_count": null,
      "metadata": {
        "id": "GhHL4LkXLKWI"
      },
      "outputs": [],
      "source": [
        "import random\n",
        "from itertools import combinations"
      ]
    },
    {
      "cell_type": "markdown",
      "source": [
        "# Define card ranks and suits"
      ],
      "metadata": {
        "id": "u9xigOmZLOkr"
      }
    },
    {
      "cell_type": "code",
      "source": [
        "RANKS = ['2', '3', '4', '5', '6', '7', '8', '9', 'T', 'J', 'Q', 'K', 'A']\n",
        "SUITS = ['H', 'D', 'C', 'S']"
      ],
      "metadata": {
        "id": "8JZ15Ws_LTZi"
      },
      "execution_count": null,
      "outputs": []
    },
    {
      "cell_type": "markdown",
      "source": [
        "# Generate a deck of cards"
      ],
      "metadata": {
        "id": "yghFU_ZnLXuk"
      }
    },
    {
      "cell_type": "code",
      "source": [
        "def generate_deck():\n",
        "    return [rank + suit for rank in RANKS for suit in SUITS]"
      ],
      "metadata": {
        "id": "MVoWntYuLaGS"
      },
      "execution_count": null,
      "outputs": []
    }
  ]
}