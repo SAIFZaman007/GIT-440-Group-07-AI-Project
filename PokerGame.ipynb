{
  "nbformat": 4,
  "nbformat_minor": 0,
  "metadata": {
    "colab": {
      "provenance": []
    },
    "kernelspec": {
      "name": "python3",
      "display_name": "Python 3"
    },
    "language_info": {
      "name": "python"
    }
  },
  "cells": [
    {
      "cell_type": "code",
      "execution_count": null,
      "metadata": {
        "id": "GhHL4LkXLKWI"
      },
      "outputs": [],
      "source": [
        "import random\n",
        "from itertools import combinations"
      ]
    },
    {
      "cell_type": "markdown",
      "source": [
        "# Define card ranks and suits"
      ],
      "metadata": {
        "id": "u9xigOmZLOkr"
      }
    },
    {
      "cell_type": "code",
      "source": [
        "RANKS = ['2', '3', '4', '5', '6', '7', '8', '9', 'T', 'J', 'Q', 'K', 'A']\n",
        "SUITS = ['H', 'D', 'C', 'S']"
      ],
      "metadata": {
        "id": "8JZ15Ws_LTZi"
      },
      "execution_count": null,
      "outputs": []
    },
    {
      "cell_type": "markdown",
      "source": [
        "# Generate a deck of cards"
      ],
      "metadata": {
        "id": "yghFU_ZnLXuk"
      }
    },
    {
      "cell_type": "code",
      "source": [
        "def generate_deck():\n",
        "    return [rank + suit for rank in RANKS for suit in SUITS]"
      ],
      "metadata": {
        "id": "MVoWntYuLaGS"
      },
      "execution_count": null,
      "outputs": []
    },
    {
      "cell_type": "markdown",
      "source": [
        "# Function to evaluate poker hands with a full evaluation"
      ],
      "metadata": {
        "id": "N4TFhOpwenBU"
      }
    },
    {
      "cell_type": "code",
      "source": [
        "def evaluate_hand(hand, community_cards):\n",
        "    all_cards = hand + community_cards\n",
        "    all_ranks = [card[0] for card in all_cards]\n",
        "    all_suits = [card[1] for card in all_cards]\n",
        "    rank_counts = {rank: all_ranks.count(rank) for rank in all_ranks}\n",
        "    sorted_ranks = sorted([RANKS.index(rank) for rank in all_ranks], reverse=True)\n",
        "\n",
        "    is_flush = len(set(all_suits)) == 1\n",
        "    is_straight = all(sorted_ranks[i] - 1 == sorted_ranks[i + 1] for i in range(len(sorted_ranks) - 1))\n",
        "\n",
        "    if is_flush and is_straight:\n",
        "        return 8  # Straight Flush\n",
        "    elif 4 in rank_counts.values():\n",
        "        return 7  # Four of a Kind\n",
        "    elif sorted(rank_counts.values()) == [2, 3]:\n",
        "        return 6  # Full House\n",
        "    elif is_flush:\n",
        "        return 5  # Flush\n",
        "    elif is_straight:\n",
        "        return 4  # Straight\n",
        "    elif 3 in rank_counts.values():\n",
        "        return 3  # Three of a Kind\n",
        "    elif list(rank_counts.values()).count(2) == 2:\n",
        "        return 2  # Two Pair\n",
        "    elif 2 in rank_counts.values():\n",
        "        return 1  # One Pair\n",
        "    else:\n",
        "        return 0  # High Card"
      ],
      "metadata": {
        "id": "l00WJHOKin-D"
      },
      "execution_count": null,
      "outputs": []
    }
  ]
}